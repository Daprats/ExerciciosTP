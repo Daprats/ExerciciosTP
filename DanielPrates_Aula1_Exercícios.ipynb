{
 "cells": [
  {
   "cell_type": "code",
   "execution_count": 1,
   "metadata": {},
   "outputs": [
    {
     "name": "stdout",
     "output_type": "stream",
     "text": [
      "15.00\n"
     ]
    }
   ],
   "source": [
    "#ex1\n",
    "\n",
    "numberOne = float(input('Write the first number: '))\n",
    "numberTwo = float(input('Write the second number: '))\n",
    "numberThree = float(input('Write the third number: '))\n",
    "\n",
    "sum = numberOne + numberTwo + numberThree\n",
    "\n",
    "print(f'{sum:,.2f}')"
   ]
  },
  {
   "cell_type": "code",
   "execution_count": 3,
   "metadata": {},
   "outputs": [
    {
     "name": "stdout",
     "output_type": "stream",
     "text": [
      "32\n"
     ]
    }
   ],
   "source": [
    "#ex2\n",
    "\n",
    "celsius = float(input('Write the temperature in degrees celsius: '))\n",
    "fahrenheit = int(celsius * (9.0/5.0) + 32.0)\n",
    "\n",
    "print(fahrenheit)"
   ]
  },
  {
   "cell_type": "code",
   "execution_count": 5,
   "metadata": {},
   "outputs": [
    {
     "name": "stdout",
     "output_type": "stream",
     "text": [
      "R$655.00\n"
     ]
    }
   ],
   "source": [
    "#ex3\n",
    "\n",
    "dollar = float(input('Write a value in dollar: '))\n",
    "price = float(input('Write the price in real: '))\n",
    "value = dollar * price\n",
    "\n",
    "print(f'R${value:,.2f}')"
   ]
  },
  {
   "cell_type": "code",
   "execution_count": 8,
   "metadata": {},
   "outputs": [
    {
     "name": "stdout",
     "output_type": "stream",
     "text": [
      "Amount: R$2760.0\n",
      "Tax: R$240.0\n"
     ]
    }
   ],
   "source": [
    "#ex4\n",
    "\n",
    "days = int(input('Write the number of days worked: '))\n",
    "value = 30*days*0.92\n",
    "tax = 30*days*0.08\n",
    "\n",
    "print(f'Amount: R${value}\\nTax: R${tax}')"
   ]
  },
  {
   "cell_type": "code",
   "execution_count": 10,
   "metadata": {},
   "outputs": [
    {
     "name": "stdout",
     "output_type": "stream",
     "text": [
      "Area: 6.0\n"
     ]
    }
   ],
   "source": [
    "#ex5\n",
    "\n",
    "a = float(input('Write the value of side A: '))\n",
    "b = float(input('Write the value of side B: '))\n",
    "c = float(input('Write the value of side C: '))\n",
    "\n",
    "s = (a+b+c)/2\n",
    "area = float(s*(s-a)*(s-b)*(s-c))**(1/2)\n",
    "\n",
    "print(f'Area: {area}')\n"
   ]
  },
  {
   "cell_type": "code",
   "execution_count": 15,
   "metadata": {},
   "outputs": [
    {
     "name": "stdout",
     "output_type": "stream",
     "text": [
      "Bigger: 2.0\n",
      "Smaller: 0.0\n",
      "Difference 2.0\n"
     ]
    }
   ],
   "source": [
    "#ex6\n",
    "\n",
    "numberOne = float(input('Write the first number: '))\n",
    "numberTwo = float(input('Write the second number: '))\n",
    "\n",
    "if (numberOne > numberTwo):\n",
    "    bigger = numberOne\n",
    "    smaller = numberTwo\n",
    "else:\n",
    "    bigger = numberTwo\n",
    "    smaller = numberOne\n",
    "\n",
    "difference = bigger - smaller\n",
    "\n",
    "print(f'Bigger: {bigger}\\nSmaller: {smaller}\\nDifference: {difference}')"
   ]
  },
  {
   "cell_type": "code",
   "execution_count": 18,
   "metadata": {},
   "outputs": [
    {
     "name": "stdout",
     "output_type": "stream",
     "text": [
      "2016.0 its leap year\n"
     ]
    }
   ],
   "source": [
    "#ex7\n",
    "\n",
    "year= int(input('Write the year: '))\n",
    "\n",
    "rest1 = year%400\n",
    "rest2 = year%100\n",
    "rest3 = year%4\n",
    "\n",
    "if (rest1 == 0):\n",
    "    print(f'{year} its leap year')\n",
    "elif (rest2 > 0 and rest3 == 0):\n",
    "    print(f'{year} its leap year')\n",
    "else:\n",
    "    print(f'{year} its not a leap year')"
   ]
  },
  {
   "cell_type": "code",
   "execution_count": 25,
   "metadata": {},
   "outputs": [
    {
     "name": "stdout",
     "output_type": "stream",
     "text": [
      "True\n"
     ]
    }
   ],
   "source": [
    "#ex8\n",
    "\n",
    "number = int(input('Write the number: '))\n",
    "\n",
    "rest3 = number%3\n",
    "rest5 = number%5\n",
    "\n",
    "if ((rest3 == 0 and rest5 == 0) == True):\n",
    "    print(False)\n",
    "else:\n",
    "    print(True)"
   ]
  },
  {
   "cell_type": "code",
   "execution_count": null,
   "metadata": {},
   "outputs": [],
   "source": []
  }
 ],
 "metadata": {
  "kernelspec": {
   "display_name": "Python 3",
   "language": "python",
   "name": "python3"
  },
  "language_info": {
   "codemirror_mode": {
    "name": "ipython",
    "version": 3
   },
   "file_extension": ".py",
   "mimetype": "text/x-python",
   "name": "python",
   "nbconvert_exporter": "python",
   "pygments_lexer": "ipython3",
   "version": "3.11.2"
  },
  "orig_nbformat": 4
 },
 "nbformat": 4,
 "nbformat_minor": 2
}
