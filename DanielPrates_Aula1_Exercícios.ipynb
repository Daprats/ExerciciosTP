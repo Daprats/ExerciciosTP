{
 "cells": [
  {
   "cell_type": "code",
   "execution_count": 1,
   "metadata": {},
   "outputs": [
    {
     "name": "stdout",
     "output_type": "stream",
     "text": [
      "15.00\n"
     ]
    }
   ],
   "source": [
    "#ex1\n",
    "\n",
    "numberOne = float(input('Write the first number: '))\n",
    "numberTwo = float(input('Write the second number: '))\n",
    "numberThree = float(input('Write the third number: '))\n",
    "\n",
    "sum = numberOne + numberTwo + numberThree\n",
    "\n",
    "print(f'{sum:,.2f}')"
   ]
  },
  {
   "cell_type": "code",
   "execution_count": 3,
   "metadata": {},
   "outputs": [
    {
     "name": "stdout",
     "output_type": "stream",
     "text": [
      "32\n"
     ]
    }
   ],
   "source": [
    "#ex2\n",
    "\n",
    "celsius = float(input('Write the temperature in degrees celsius: '))\n",
    "fahrenheit = int(celsius * (9.0/5.0) + 32.0)\n",
    "\n",
    "print(fahrenheit)"
   ]
  },
  {
   "cell_type": "code",
   "execution_count": 5,
   "metadata": {},
   "outputs": [
    {
     "name": "stdout",
     "output_type": "stream",
     "text": [
      "R$655.00\n"
     ]
    }
   ],
   "source": [
    "#ex3\n",
    "\n",
    "dollar = float(input('Write a value in dollar: '))\n",
    "price = float(input('Write the price in real: '))\n",
    "value = dollar * price\n",
    "\n",
    "print(f'R${value:,.2f}')"
   ]
  },
  {
   "cell_type": "code",
   "execution_count": 8,
   "metadata": {},
   "outputs": [
    {
     "name": "stdout",
     "output_type": "stream",
     "text": [
      "Amount: R$2760.0\n",
      "Tax: R$240.0\n"
     ]
    }
   ],
   "source": [
    "#ex4\n",
    "\n",
    "days = int(input('Write the number of days worked: '))\n",
    "value = 30*days*0.92\n",
    "tax = 30*days*0.08\n",
    "\n",
    "print(f'Amount: R${value}\\nTax: R${tax}')"
   ]
  },
  {
   "cell_type": "code",
   "execution_count": 10,
   "metadata": {},
   "outputs": [
    {
     "name": "stdout",
     "output_type": "stream",
     "text": [
      "Area: 6.0\n"
     ]
    }
   ],
   "source": [
    "#ex5\n",
    "\n",
    "a = float(input('Write the value of side A: '))\n",
    "b = float(input('Write the value of side B: '))\n",
    "c = float(input('Write the value of side C: '))\n",
    "\n",
    "s = (a+b+c)/2\n",
    "area = float(s*(s-a)*(s-b)*(s-c))**(1/2)\n",
    "\n",
    "print(f'Area: {area}')\n"
   ]
  },
  {
   "cell_type": "code",
   "execution_count": 15,
   "metadata": {},
   "outputs": [
    {
     "name": "stdout",
     "output_type": "stream",
     "text": [
      "Bigger: 2.0\n",
      "Smaller: 0.0\n",
      "Difference 2.0\n"
     ]
    }
   ],
   "source": [
    "#ex6\n",
    "\n",
    "numberOne = float(input('Write the first number: '))\n",
    "numberTwo = float(input('Write the second number: '))\n",
    "\n",
    "if (numberOne > numberTwo):\n",
    "    bigger = numberOne\n",
    "    smaller = numberTwo\n",
    "else:\n",
    "    bigger = numberTwo\n",
    "    smaller = numberOne\n",
    "\n",
    "difference = bigger - smaller\n",
    "\n",
    "print(f'Bigger: {bigger}\\nSmaller: {smaller}\\nDifference: {difference}')"
   ]
  },
  {
   "cell_type": "code",
   "execution_count": 18,
   "metadata": {},
   "outputs": [
    {
     "name": "stdout",
     "output_type": "stream",
     "text": [
      "2016.0 its leap year\n"
     ]
    }
   ],
   "source": [
    "#ex7\n",
    "\n",
    "year= int(input('Write the year: '))\n",
    "\n",
    "rest1 = year%400\n",
    "rest2 = year%100\n",
    "rest3 = year%4\n",
    "\n",
    "if (rest1 == 0):\n",
    "    print(f'{year} its leap year')\n",
    "elif (rest2 > 0 and rest3 == 0):\n",
    "    print(f'{year} its leap year')\n",
    "else:\n",
    "    print(f'{year} its not a leap year')"
   ]
  },
  {
   "cell_type": "code",
   "execution_count": 25,
   "metadata": {},
   "outputs": [
    {
     "name": "stdout",
     "output_type": "stream",
     "text": [
      "True\n"
     ]
    }
   ],
   "source": [
    "#ex8\n",
    "\n",
    "number = int(input('Write the number: '))\n",
    "\n",
    "rest3 = number%3\n",
    "rest5 = number%5\n",
    "\n",
    "if ((rest3 == 0 and rest5 == 0) == True):\n",
    "    print(False)\n",
    "else:\n",
    "    print(True)"
   ]
  },
  {
   "cell_type": "code",
   "execution_count": 33,
   "metadata": {},
   "outputs": [
    {
     "name": "stdout",
     "output_type": "stream",
     "text": [
      "Can retire\n"
     ]
    }
   ],
   "source": [
    "#ex9 \n",
    "age = int(input('Write your age: '))\n",
    "sex = str(input('Write your sex: '))\n",
    "time =  float(input('Write your time of service: '))\n",
    "\n",
    "if ((age > 60 and sex == 'F') or (age > 65 and sex == 'M') or (age >= 60 and time >= 25) or (time >= 30)):\n",
    "    print('Can retire')\n",
    "else:\n",
    "    print(\"Can't retire\")"
   ]
  },
  {
   "cell_type": "code",
   "execution_count": 3,
   "metadata": {},
   "outputs": [
    {
     "name": "stdout",
     "output_type": "stream",
     "text": [
      "H\n"
     ]
    }
   ],
   "source": [
    "#ex10\n",
    "\n",
    "height =  float(input('Write your height in meters: '))\n",
    "weight = float(input('Write your weight: '))\n",
    "\n",
    "if (height < 1.5):\n",
    "    if(weight <= 60):\n",
    "        print('A')\n",
    "    elif(90>= weight >=60):\n",
    "        print('D')\n",
    "    else:\n",
    "        print('G')\n",
    "elif (1.8 >= height >= 1.5):\n",
    "    if(weight <= 60):\n",
    "        print('B')\n",
    "    elif(90>= weight >=60):\n",
    "        print('E')\n",
    "    else:\n",
    "        print('H')\n",
    "else:\n",
    "    if(weight <= 60):\n",
    "        print('C')\n",
    "    elif(90>= weight >=60):\n",
    "        print('F')\n",
    "    else:\n",
    "        print('I')\n"
   ]
  },
  {
   "cell_type": "code",
   "execution_count": 5,
   "metadata": {},
   "outputs": [
    {
     "name": "stdout",
     "output_type": "stream",
     "text": [
      "2.0\n"
     ]
    }
   ],
   "source": [
    "#ex11\n",
    "\n",
    "option = str(input('Choose an option: \\n(a) - Geometric\\n(b) - Weighted\\n(c) - Harmonica\\n(d) - Arithmetic\\n'))\n",
    "numberOne = int(input('Write the first number: '))\n",
    "numberTwo = int(input('Write the second number: '))\n",
    "numberThree = int(input('Write the third number: '))\n",
    "\n",
    "def calc_geometric(x, y, z):\n",
    "    result = (x*y*z)**1/3\n",
    "    return result\n",
    "def calc_arithmetic(x, y, z):\n",
    "    result = (x+y+z)/3\n",
    "    return result\n",
    "def calc_weighted(x, y, z):\n",
    "    result = (x + y*2 + z*3)/6\n",
    "    return result\n",
    "def calc_harmonica(x,  y, z):\n",
    "    result = (1/((1/x)+(1/y)+(1/z)))\n",
    "    return result\n",
    "\n",
    "if (option == 'a'):\n",
    "    print(calc_geometric(numberOne, numberTwo, numberThree))\n",
    "elif (option == 'b'):\n",
    "    print(calc_weighted(numberOne, numberTwo, numberThree))\n",
    "elif (option == 'c'):\n",
    "    print(calc_harmonica(numberOne, numberTwo, numberThree))\n",
    "else:\n",
    "    print(calc_arithmetic(numberOne, numberTwo, numberThree))"
   ]
  },
  {
   "cell_type": "code",
   "execution_count": 7,
   "metadata": {},
   "outputs": [
    {
     "name": "stdout",
     "output_type": "stream",
     "text": [
      "The MMC is equal to: 13\n"
     ]
    }
   ],
   "source": [
    "#ex12\n",
    "\n",
    "numberOne = int(input('Write the first number: '))\n",
    "numberTwo = int(input('Write the second number: '))\n",
    "i=1\n",
    "\n",
    "while i < numberOne:\n",
    "    if (numberOne%i == 0 and numberTwo%i == 0):\n",
    "        minimum = i\n",
    "    i += 1\n",
    "\n",
    "print(f'The MMC is equal to: {minimum}')"
   ]
  },
  {
   "cell_type": "code",
   "execution_count": 16,
   "metadata": {},
   "outputs": [
    {
     "name": "stdout",
     "output_type": "stream",
     "text": [
      "-3\n",
      "-1\n",
      "1\n",
      "3\n",
      "5\n"
     ]
    }
   ],
   "source": [
    "#ex13\n",
    "\n",
    "numberN = int(input('Write the first number: '))\n",
    "numberM = int(input('Write the second number: '))\n",
    "i=numberN+1\n",
    "\n",
    "while (numberN < i < numberM): \n",
    "    if (i%2 != 0):\n",
    "        print(i)\n",
    "    i+=1"
   ]
  },
  {
   "cell_type": "code",
   "execution_count": 10,
   "metadata": {},
   "outputs": [
    {
     "name": "stdout",
     "output_type": "stream",
     "text": [
      "\n",
      "1 \n",
      "2 3 \n",
      "4 5 6 \n",
      "7 8 9 10 \n"
     ]
    }
   ],
   "source": [
    "#ex14\n",
    "\n",
    "numberN = int(input('Write an number: '))\n",
    "\n",
    "n = 1\n",
    "\n",
    "for i in range(0, numberN):\n",
    "  for j in range(0, i):\n",
    "    print(n, end=\" \")\n",
    "    n = n+1\n",
    "  print()"
   ]
  },
  {
   "cell_type": "code",
   "execution_count": 11,
   "metadata": {},
   "outputs": [
    {
     "name": "stdout",
     "output_type": "stream",
     "text": [
      "The bricklayer must receiver: 197.5\n"
     ]
    }
   ],
   "source": [
    "#ex15\n",
    "\n",
    "food = float(input('Write the value of food: '))\n",
    "meters = float(input('Write the number of meters: '))\n",
    "ticket = float(input('Write the value of ticket: '))\n",
    "\n",
    "ticket *= 2\n",
    "\n",
    "if meters < 10:\n",
    "    result = food + ticket + meters*10\n",
    "    print(f'The bricklayer must receiver: {result}')\n",
    "elif meters >= 20:\n",
    "    result = food + ticket + meters*13\n",
    "    print(f'The bricklayer must receiver: {result}')\n",
    "else:\n",
    "    result = food + ticket + meters*11.5\n",
    "    print(f'The bricklayer must receiver: R${result}')"
   ]
  },
  {
   "cell_type": "code",
   "execution_count": 15,
   "metadata": {},
   "outputs": [
    {
     "name": "stdout",
     "output_type": "stream",
     "text": [
      "533.0\n"
     ]
    }
   ],
   "source": [
    "#ex16\n",
    "\n",
    "terms = int(input('Write the number of terms: '))\n",
    "a = float(input('Write the value of first term: '))\n",
    "r = float(input('Write the number of ratio: '))\n",
    "an = a + (r*(terms-1))\n",
    "sn = (terms*(a+an))/2\n",
    "\n",
    "print(sn)"
   ]
  },
  {
   "cell_type": "code",
   "execution_count": 26,
   "metadata": {},
   "outputs": [
    {
     "name": "stdout",
     "output_type": "stream",
     "text": [
      "0, 3, 6, 9, 12, 15, 18, 21"
     ]
    }
   ],
   "source": [
    "#ex17\n",
    "\n",
    "terms = int(input('Write the number of terms: '))\n",
    "divider = int(input('Write the divider: '))\n",
    "\n",
    "print(\"0\", end=\"\")\n",
    "for i in range(1, terms+1):\n",
    "    if i%divider == 0:\n",
    "        print(\", \", end=\"\")\n",
    "        print(i, end=\"\")\n",
    "    "
   ]
  }
 ],
 "metadata": {
  "kernelspec": {
   "display_name": "Python 3",
   "language": "python",
   "name": "python3"
  },
  "language_info": {
   "codemirror_mode": {
    "name": "ipython",
    "version": 3
   },
   "file_extension": ".py",
   "mimetype": "text/x-python",
   "name": "python",
   "nbconvert_exporter": "python",
   "pygments_lexer": "ipython3",
   "version": "3.8.10"
  },
  "orig_nbformat": 4
 },
 "nbformat": 4,
 "nbformat_minor": 2
}
