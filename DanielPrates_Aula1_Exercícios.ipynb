{
 "cells": [
  {
   "cell_type": "code",
   "execution_count": 1,
   "metadata": {},
   "outputs": [
    {
     "name": "stdout",
     "output_type": "stream",
     "text": [
      "15.00\n"
     ]
    }
   ],
   "source": [
    "numberOne = float(input('Write the first number: '))\n",
    "numberTwo = float(input('Write the second number: '))\n",
    "numberThree = float(input('Write the third number: '))\n",
    "\n",
    "sum = numberOne + numberTwo + numberThree\n",
    "\n",
    "print(f'{sum:,.2f}')"
   ]
  },
  {
   "cell_type": "code",
   "execution_count": 3,
   "metadata": {},
   "outputs": [
    {
     "name": "stdout",
     "output_type": "stream",
     "text": [
      "32\n"
     ]
    }
   ],
   "source": [
    "celsius = float(input('Write the temperature in degrees celsius: '))\n",
    "fahrenheit = int(celsius * (9.0/5.0) + 32.0)\n",
    "\n",
    "print(fahrenheit)"
   ]
  },
  {
   "cell_type": "code",
   "execution_count": 5,
   "metadata": {},
   "outputs": [
    {
     "name": "stdout",
     "output_type": "stream",
     "text": [
      "R$655.00\n"
     ]
    }
   ],
   "source": [
    "dollar = float(input('Write a value in dollar: '))\n",
    "price = float(input('Write the price in real: '))\n",
    "value = dollar * price\n",
    "\n",
    "print(f'R${value:,.2f}')"
   ]
  }
 ],
 "metadata": {
  "kernelspec": {
   "display_name": "Python 3",
   "language": "python",
   "name": "python3"
  },
  "language_info": {
   "codemirror_mode": {
    "name": "ipython",
    "version": 3
   },
   "file_extension": ".py",
   "mimetype": "text/x-python",
   "name": "python",
   "nbconvert_exporter": "python",
   "pygments_lexer": "ipython3",
   "version": "3.11.2"
  },
  "orig_nbformat": 4
 },
 "nbformat": 4,
 "nbformat_minor": 2
}
