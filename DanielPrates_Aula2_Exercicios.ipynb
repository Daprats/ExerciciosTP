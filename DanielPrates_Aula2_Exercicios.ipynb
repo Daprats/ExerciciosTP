{
 "cells": [
  {
   "cell_type": "code",
   "execution_count": 7,
   "metadata": {},
   "outputs": [
    {
     "name": "stdout",
     "output_type": "stream",
     "text": [
      "Sum: 85\n",
      "Average: 8.5\n",
      "Max: 125\n",
      "Min: -98\n",
      "nZeros: 3\n"
     ]
    }
   ],
   "source": [
    "#ex1\n",
    "from statistics import mean\n",
    "\n",
    "def collectIntegers():\n",
    "    nInteger = int(input(\"Write a number of integer: \"))\n",
    "    return nInteger\n",
    "\n",
    "def appendNumbers(nInteger):\n",
    "    array = []   \n",
    "    for i in range(nInteger):\n",
    "            number = int(input(f\"Write an number, {i+1} of {nInteger}: \"))\n",
    "            array.append(number)\n",
    "    return array\n",
    "\n",
    "def printFuncions(array):\n",
    "    print(f\"Sum: {sum(array)}\")\n",
    "    print(f\"Average: {mean(array)}\")\n",
    "    print(f\"Max: {max(array)}\")\n",
    "    print(f\"Min: {min(array)}\")\n",
    "    print(f\"nZeros: {array.count(0)}\")\n",
    "\n",
    "nInteger = collectIntegers()\n",
    "lst = appendNumbers(nInteger)\n",
    "printFuncions(lst)\n",
    "\n",
    "\n"
   ]
  },
  {
   "cell_type": "code",
   "execution_count": 21,
   "metadata": {},
   "outputs": [
    {
     "name": "stdout",
     "output_type": "stream",
     "text": [
      "['.NET', 'C', 'C#', 'C++', 'Java', 'Python', 'Ruby']\n",
      "[6, 1, 5, 2, 3, 0, 4]\n"
     ]
    }
   ],
   "source": [
    "#ex2\n",
    "\n",
    "indexs = []\n",
    "word = str(input(\"Write strings: \"))\n",
    "wordSplit = word.split(' ')\n",
    "wordSort = word.split(' ')\n",
    "wordSort.sort()\n",
    "print(wordSort)\n",
    "\n",
    "for sort in wordSort:\n",
    "    index = wordSplit.index(sort)\n",
    "    indexs.append(index)\n",
    "\n",
    "print(indexs)\n"
   ]
  }
 ],
 "metadata": {
  "kernelspec": {
   "display_name": "Python 3",
   "language": "python",
   "name": "python3"
  },
  "language_info": {
   "codemirror_mode": {
    "name": "ipython",
    "version": 3
   },
   "file_extension": ".py",
   "mimetype": "text/x-python",
   "name": "python",
   "nbconvert_exporter": "python",
   "pygments_lexer": "ipython3",
   "version": "3.11.2"
  },
  "orig_nbformat": 4
 },
 "nbformat": 4,
 "nbformat_minor": 2
}
