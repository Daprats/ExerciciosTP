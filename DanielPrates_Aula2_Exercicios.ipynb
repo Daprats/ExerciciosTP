{
 "cells": [
  {
   "cell_type": "code",
   "execution_count": null,
   "metadata": {},
   "outputs": [],
   "source": [
    "#ex1\n",
    "from statistics import mean\n",
    "\n",
    "def collectIntegers():\n",
    "    nInteger = int(input(\"Write an number of integer: \"))\n",
    "    return nInteger\n",
    "\n",
    "def appendNumbers(nInteger):\n",
    "    array = []   \n",
    "    for i in range(nInteger):\n",
    "            number = int(input(f\"Write an number, {i} of {nInteger}: \"))\n",
    "            array.append(number)\n",
    "    return array\n",
    "\n",
    "def printFuncions(array):\n",
    "    print(f\"Sum: {sum(array)}\")\n",
    "    print(f\"Avarege: {mean(array)}\")\n",
    "    print(f\"Max: {max(array)}\")\n",
    "    print(f\"Min: {min(array)}\")\n",
    "    print(f\"nZeros: {array.count(0)}\")\n",
    "\n",
    "nInteger = collectIntegers()\n",
    "lst = appendNumbers(nInteger)\n",
    "printFuncions(lst)\n",
    "\n",
    "\n"
   ]
  }
 ],
 "metadata": {
  "language_info": {
   "name": "python"
  },
  "orig_nbformat": 4
 },
 "nbformat": 4,
 "nbformat_minor": 2
}
