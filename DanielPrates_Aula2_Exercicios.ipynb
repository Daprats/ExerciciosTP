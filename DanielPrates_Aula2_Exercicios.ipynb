{
 "cells": [
  {
   "cell_type": "code",
   "execution_count": 7,
   "metadata": {},
   "outputs": [
    {
     "name": "stdout",
     "output_type": "stream",
     "text": [
      "Sum: 85\n",
      "Average: 8.5\n",
      "Max: 125\n",
      "Min: -98\n",
      "nZeros: 3\n"
     ]
    }
   ],
   "source": [
    "#ex1\n",
    "from statistics import mean\n",
    "\n",
    "def collectIntegers():\n",
    "    nInteger = int(input(\"Write a number of integer: \"))\n",
    "    return nInteger\n",
    "\n",
    "def appendNumbers(nInteger):\n",
    "    array = []   \n",
    "    for i in range(nInteger):\n",
    "            number = int(input(f\"Write an number, {i+1} of {nInteger}: \"))\n",
    "            array.append(number)\n",
    "    return array\n",
    "\n",
    "def printFuncions(array):\n",
    "    print(f\"Sum: {sum(array)}\")\n",
    "    print(f\"Average: {mean(array)}\")\n",
    "    print(f\"Max: {max(array)}\")\n",
    "    print(f\"Min: {min(array)}\")\n",
    "    print(f\"nZeros: {array.count(0)}\")\n",
    "\n",
    "nInteger = collectIntegers()\n",
    "lst = appendNumbers(nInteger)\n",
    "printFuncions(lst)\n",
    "\n",
    "\n"
   ]
  },
  {
   "cell_type": "code",
   "execution_count": 21,
   "metadata": {},
   "outputs": [
    {
     "name": "stdout",
     "output_type": "stream",
     "text": [
      "['.NET', 'C', 'C#', 'C++', 'Java', 'Python', 'Ruby']\n",
      "[6, 1, 5, 2, 3, 0, 4]\n"
     ]
    }
   ],
   "source": [
    "#ex2\n",
    "\n",
    "indexs = []\n",
    "word = str(input(\"Write strings: \"))\n",
    "wordSplit = word.split(' ')\n",
    "wordSort = word.split(' ')\n",
    "wordSort.sort()\n",
    "print(wordSort)\n",
    "\n",
    "for sort in wordSort:\n",
    "    index = wordSplit.index(sort)\n",
    "    indexs.append(index)\n",
    "\n",
    "print(indexs)\n"
   ]
  },
  {
   "cell_type": "code",
   "execution_count": 11,
   "metadata": {},
   "outputs": [
    {
     "name": "stdout",
     "output_type": "stream",
     "text": [
      "Primeiro: 0, 86\n",
      "Segundo: 2, 85\n",
      "Terceiro: 8, 84\n"
     ]
    }
   ],
   "source": [
    "#ex3\n",
    "\n",
    "indexs = []\n",
    "listMax = []\n",
    "word = str(input(\"Write strings: \"))\n",
    "wordSplit = word.split(' ')\n",
    "\n",
    "wordSort = word.split(' ')\n",
    "wordSort.sort()\n",
    "wordSort.reverse()\n",
    "\n",
    "listMax.append(wordSort[0])\n",
    "indexs.append(0)\n",
    "\n",
    "for sort in wordSort:\n",
    "    if sort in listMax:\n",
    "        continue\n",
    "    else:\n",
    "        index = wordSplit.index(sort)\n",
    "        indexs.append(index)\n",
    "        listMax.append(sort)\n",
    "\n",
    "print(f\"Primeiro: {indexs[0]}, {listMax[0]}\")\n",
    "print(f\"Segundo: {indexs[1]}, {listMax[1]}\")\n",
    "print(f\"Terceiro: {indexs[2]}, {listMax[2]}\")"
   ]
  },
  {
   "cell_type": "code",
   "execution_count": 4,
   "metadata": {},
   "outputs": [
    {
     "name": "stdout",
     "output_type": "stream",
     "text": [
      "Caixa de Som 99.99\n",
      "Camera DSLR 5209.90\n",
      "Celular 1700.00\n",
      "Laptop 3280.00\n",
      "Webcam 249.99\n"
     ]
    }
   ],
   "source": [
    "#ex4\n",
    "\n",
    "nProducts = int(input(\"How many products do you need? \"))\n",
    "products = []\n",
    "\n",
    "for i in range(nProducts):\n",
    "    name = input(f\"Write the name of product {i + 1}: \")\n",
    "    price = float(input(f\"Write the price of pruduct {i + 1}: \"))\n",
    "    products.append(name)\n",
    "    products.append(price)\n",
    "\n",
    "\n",
    "names = products[::2]\n",
    "prices = products[1::2]  \n",
    "\n",
    "sortNames = sorted(names)\n",
    "\n",
    "for name in sortNames:\n",
    "    indexs = names.index(name)  \n",
    "    price = prices[indexs]\n",
    "    print(f\"{name} {price:.2f}\")"
   ]
  },
  {
   "cell_type": "code",
   "execution_count": 15,
   "metadata": {},
   "outputs": [
    {
     "name": "stdout",
     "output_type": "stream",
     "text": [
      "[1, 4, 25, 49, 121, 169]\n"
     ]
    }
   ],
   "source": [
    "#ex5\n",
    "lst = input(\"Write numbers: \").split(' ')\n",
    "integers = [int(n) for n in lst]\n",
    "sqrt = [(n**2) for n in integers]\n",
    "print(sqrt)"
   ]
  }
 ],
 "metadata": {
  "kernelspec": {
   "display_name": "Python 3",
   "language": "python",
   "name": "python3"
  },
  "language_info": {
   "codemirror_mode": {
    "name": "ipython",
    "version": 3
   },
   "file_extension": ".py",
   "mimetype": "text/x-python",
   "name": "python",
   "nbconvert_exporter": "python",
   "pygments_lexer": "ipython3",
   "version": "3.8.10"
  },
  "orig_nbformat": 4
 },
 "nbformat": 4,
 "nbformat_minor": 2
}
